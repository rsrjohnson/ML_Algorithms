{
 "cells": [
  {
   "cell_type": "code",
   "execution_count": 1,
   "id": "congressional-advancement",
   "metadata": {
    "scrolled": true
   },
   "outputs": [],
   "source": [
    "import numpy as np\n",
    "import pandas as pd\n",
    "import matplotlib.pyplot as plt\n",
    "from scipy import stats\n"
   ]
  },
  {
   "cell_type": "code",
   "execution_count": 2,
   "id": "modified-spectacular",
   "metadata": {},
   "outputs": [],
   "source": [
    "rdseed=8467\n",
    "\n",
    "np.random.seed(rdseed)\n",
    "rng = np.random.default_rng()\n",
    "\n",
    "x=rng.random(10)\n",
    "y = 1.6*x + rng.random(10)"
   ]
  },
  {
   "cell_type": "markdown",
   "id": "alike-dominican",
   "metadata": {},
   "source": [
    "## Regression using Scipy"
   ]
  },
  {
   "cell_type": "code",
   "execution_count": 3,
   "id": "knowing-exclusive",
   "metadata": {},
   "outputs": [
    {
     "name": "stdout",
     "output_type": "stream",
     "text": [
      "R-squared: 0.631331\n"
     ]
    }
   ],
   "source": [
    "res = stats.linregress(x, y)\n",
    "\n",
    "print(f\"R-squared: {res.rvalue**2:.6f}\")"
   ]
  },
  {
   "cell_type": "code",
   "execution_count": 4,
   "id": "collect-strand",
   "metadata": {},
   "outputs": [
    {
     "data": {
      "image/png": "[encoded data removed]",
      "text/plain": [
       "<Figure size 432x288 with 1 Axes>"
      ]
     },
     "metadata": {
      "needs_background": "light"
     },
     "output_type": "display_data"
    }
   ],
   "source": [
    "plt.plot(x, y, 'o', label='original data')\n",
    "plt.plot(x, res.intercept + res.slope*x, 'r', label='fitted line')\n",
    "plt.legend()\n",
    "plt.show()"
   ]
  },
  {
   "cell_type": "code",
   "execution_count": 5,
   "id": "sustained-nepal",
   "metadata": {},
   "outputs": [
    {
     "name": "stdout",
     "output_type": "stream",
     "text": [
      "slope (95%): 1.482848 +/- 0.923849\n",
      "intercept (95%): 0.541058 +/- 0.470131\n"
     ]
    }
   ],
   "source": [
    "from scipy.stats import t\n",
    "tinv = lambda p, df: abs(t.ppf(p/2, df))\n",
    "\n",
    "ts = tinv(0.05, len(x)-2)\n",
    "print(f\"slope (95%): {res.slope:.6f} +/- {ts*res.stderr:.6f}\")\n",
    "print(f\"intercept (95%): {res.intercept:.6f} +/- {ts*res.intercept_stderr:.6f}\")"
   ]
  }
 ],
 "metadata": {
  "kernelspec": {
   "display_name": "Python 3",
   "language": "python",
   "name": "python3"
  },
  "language_info": {
   "codemirror_mode": {
    "name": "ipython",
    "version": 3
   },
   "file_extension": ".py",
   "mimetype": "text/x-python",
   "name": "python",
   "nbconvert_exporter": "python",
   "pygments_lexer": "ipython3",
   "version": "3.7.9"
  }
 },
 "nbformat": 4,
 "nbformat_minor": 5
}
